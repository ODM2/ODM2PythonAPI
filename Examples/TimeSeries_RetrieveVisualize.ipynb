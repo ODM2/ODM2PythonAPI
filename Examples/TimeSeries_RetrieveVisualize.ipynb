{
 "cells": [
  {
   "cell_type": "markdown",
   "metadata": {},
   "source": [
    "# ODM2 API: Retrieve, manipulate and visualize ODM2 time series data"
   ]
  },
  {
   "cell_type": "markdown",
   "metadata": {},
   "source": [
    "This example shows how to use the ODM2 Python API (`odm2api`) to connect to an ODM2 database, retrieve data, and analyze and visualize the data. The [database (USU_LittleBearRiver_timeseriesresults_ODM2.sqlite)](https://github.com/ODM2/ODM2PythonAPI/blob/master/Examples/data/USU_LittleBearRiver_timeseriesresults_ODM2.sqlite) contains [\"timeSeriesCoverage\"-type results](http://vocabulary.odm2.org/resulttype/timeSeriesCoverage/).\n",
    "\n",
    "This example uses SQLite for the database because it doesn't require a server. However, the ODM2 Python API demonstrated here can alse be used with ODM2 databases implemented in MySQL, PostgreSQL or Microsoft SQL Server.\n",
    "\n",
    "More details on the ODM2 Python API and its source code and latest development can be found at https://github.com/ODM2/ODM2PythonAPI\n",
    "\n",
    "[Emilio Mayorga](https://github.com/emiliom/). Last updated 2018-10-7."
   ]
  },
  {
   "cell_type": "markdown",
   "metadata": {},
   "source": [
    "Adapted from notebook https://big-cz.github.io/notebook_data_demo/notebooks/2017-06-24-odm2api_sample_fromsqlite/, based on earlier code and an ODM2 database from [Jeff Horsburgh's group](http://jeffh.usu.edu) at Utah State University."
   ]
  },
  {
   "cell_type": "code",
   "execution_count": 1,
   "metadata": {},
   "outputs": [],
   "source": [
    "%matplotlib inline\n",
    "\n",
    "import os\n",
    "\n",
    "import matplotlib as mpl\n",
    "import matplotlib.pyplot as plt\n",
    "import pandas as pd\n",
    "\n",
    "import odm2api\n",
    "from odm2api.ODMconnection import dbconnection\n",
    "import odm2api.services.readService as odm2rs"
   ]
  },
  {
   "cell_type": "code",
   "execution_count": 2,
   "metadata": {},
   "outputs": [
    {
     "data": {
      "text/plain": [
       "u'0.23.4'"
      ]
     },
     "execution_count": 2,
     "metadata": {},
     "output_type": "execute_result"
    }
   ],
   "source": [
    "pd.__version__"
   ]
  },
  {
   "cell_type": "markdown",
   "metadata": {},
   "source": [
    "**odm2api version used** to run this notebook:"
   ]
  },
  {
   "cell_type": "code",
   "execution_count": 3,
   "metadata": {},
   "outputs": [
    {
     "data": {
      "text/plain": [
       "u'0.7.1'"
      ]
     },
     "execution_count": 3,
     "metadata": {},
     "output_type": "execute_result"
    }
   ],
   "source": [
    "odm2api.__version__"
   ]
  },
  {
   "cell_type": "markdown",
   "metadata": {},
   "source": [
    "## Connect to the ODM2 SQLite Database\n",
    "\n",
    "This example uses an ODM2 SQLite database file loaded with a sensor-based, high-frequency temperature time series from a site in the [Little Bear River, in Logan, Utah, from Utah State University](http://littlebearriver.usu.edu/). The [database (USU_LittleBearRiver_timeseriesresults_ODM2.sqlite)](https://github.com/ODM2/ODM2PythonAPI/blob/master/Examples/data/USU_LittleBearRiver_timeseriesresults_ODM2.sqlite) contains [\"timeSeriesCoverage\"-type results](http://vocabulary.odm2.org/resulttype/timeSeriesCoverage/).\n",
    "\n",
    "The example database is located in the `data` sub-directory."
   ]
  },
  {
   "cell_type": "code",
   "execution_count": 4,
   "metadata": {},
   "outputs": [],
   "source": [
    "# Assign directory paths and SQLite file name\n",
    "dbname_sqlite = \"USU_LittleBearRiver_timeseriesresults_ODM2.sqlite\"\n",
    "\n",
    "sqlite_pth = os.path.join(\"data\", dbname_sqlite)"
   ]
  },
  {
   "cell_type": "code",
   "execution_count": 5,
   "metadata": {},
   "outputs": [
    {
     "name": "stdout",
     "output_type": "stream",
     "text": [
      "Database connection successful!\n"
     ]
    }
   ],
   "source": [
    "try:\n",
    "    session_factory = dbconnection.createConnection('sqlite', sqlite_pth)\n",
    "    read = odm2rs.ReadODM2(session_factory)\n",
    "    print(\"Database connection successful!\")\n",
    "except Exception as e:\n",
    "    print(\"Unable to establish connection to the database: \", e)"
   ]
  },
  {
   "cell_type": "markdown",
   "metadata": {},
   "source": [
    "## Run Some Basic Queries on the ODM2 Database\n",
    "\n",
    "This section shows some examples of how to use the API to run both simple and more advanced queries on the ODM2 database, as well as how to examine the query output in convenient ways thanks to Python tools. The notebook [WaterQualityMeasurements_RetrieveVisualize.ipynb](https://github.com/ODM2/ODM2PythonAPI/blob/master/Examples/WaterQualityMeasurements_RetrieveVisualize.ipynb) includes more extensive examples of `odm2api`-based querying and examinations of the information that is returned.\n",
    "\n",
    "Simple query functions like **getVariables( )** return objects similar to the entities in ODM2, and individual attributes can then be retrieved from the objects returned. "
   ]
  },
  {
   "cell_type": "code",
   "execution_count": 6,
   "metadata": {},
   "outputs": [
    {
     "name": "stdout",
     "output_type": "stream",
     "text": [
      "USU36: Temperature\n"
     ]
    }
   ],
   "source": [
    "allVars = read.getVariables()\n",
    "\n",
    "for x in allVars:\n",
    "    print('{}: {}'.format(x.VariableCode, x.VariableNameCV))"
   ]
  },
  {
   "cell_type": "markdown",
   "metadata": {},
   "source": [
    "### SamplingFeatures\n",
    "Request all sampling features, then examine them. Only one sampling feature is present, with `SamplingFeatureTypeCV` type `Site`."
   ]
  },
  {
   "cell_type": "code",
   "execution_count": 7,
   "metadata": {},
   "outputs": [
    {
     "data": {
      "text/plain": [
       "1"
      ]
     },
     "execution_count": 7,
     "metadata": {},
     "output_type": "execute_result"
    }
   ],
   "source": [
    "sf_lst = read.getSamplingFeatures()\n",
    "len(sf_lst)"
   ]
  },
  {
   "cell_type": "code",
   "execution_count": 8,
   "metadata": {},
   "outputs": [
    {
     "data": {
      "text/plain": [
       "{'ElevationDatumCV': u'NGVD29',\n",
       " 'Elevation_m': 1345.0,\n",
       " 'FeatureGeometryWKT': u'POINT (-111.946402 41.718473)',\n",
       " 'SamplingFeatureCode': u'USU-LBR-Mendon',\n",
       " 'SamplingFeatureDescription': None,\n",
       " 'SamplingFeatureGeotypeCV': u'Point',\n",
       " 'SamplingFeatureID': 1,\n",
       " 'SamplingFeatureName': u'Little Bear River at Mendon Road near Mendon, Utah',\n",
       " 'SamplingFeatureTypeCV': u'Site',\n",
       " 'SamplingFeatureUUID': u'6c74a4bd-e1d4-11e5-95b8-f45c8999816f',\n",
       " '_sa_instance_state': <sqlalchemy.orm.state.InstanceState at 0x7fc8bc53a690>}"
      ]
     },
     "execution_count": 8,
     "metadata": {},
     "output_type": "execute_result"
    }
   ],
   "source": [
    "vars(sf_lst[0])"
   ]
  },
  {
   "cell_type": "code",
   "execution_count": 9,
   "metadata": {},
   "outputs": [
    {
     "name": "stdout",
     "output_type": "stream",
     "text": [
      "USU-LBR-Mendon: Little Bear River at Mendon Road near Mendon, Utah\n"
     ]
    }
   ],
   "source": [
    "print('{}: {}'.format(sf_lst[0].SamplingFeatureCode, sf_lst[0].SamplingFeatureName))"
   ]
  },
  {
   "cell_type": "markdown",
   "metadata": {},
   "source": [
    "### Results and Actions"
   ]
  },
  {
   "cell_type": "markdown",
   "metadata": {},
   "source": [
    "You can also drill down and get objects linked by foreign keys. The API returns related objects in a nested hierarchy so they can be interrogated in an object oriented way. So, if I use the **getResults( )** function to return a Result from the database (e.g., a \"Time Series\" Result), I also get the associated Action that created that Result (e.g., an \"Observation\" Action)."
   ]
  },
  {
   "cell_type": "code",
   "execution_count": 10,
   "metadata": {},
   "outputs": [
    {
     "data": {
      "text/plain": [
       "1"
      ]
     },
     "execution_count": 10,
     "metadata": {},
     "output_type": "execute_result"
    }
   ],
   "source": [
    "# What's the total number of results in the database?\n",
    "len(read.getResults())"
   ]
  },
  {
   "cell_type": "code",
   "execution_count": 11,
   "metadata": {},
   "outputs": [
    {
     "name": "stdout",
     "output_type": "stream",
     "text": [
      "The ResultID for the Result is: 1\n",
      "('The FeatureAction object for the Result is: ', <FeatureActions({'FeatureActionID': 1, 'SamplingFeatureID': 1, 'ActionID': 1})>)\n",
      "('The Action object for the Result is: ', <Actions({'MethodID': 1, 'ActionDescription': u'An observation action that generated a time series result.', 'ActionFileLink': None, 'EndDateTime': datetime.datetime(2009, 1, 16, 12, 30), 'BeginDateTime': datetime.datetime(2007, 8, 16, 16, 30), 'BeginDateTimeUTCOffset': -7, 'ActionTypeCV': u'Observation', 'ActionID': 1, 'EndDateTimeUTCOffset': -7})>)\n",
      "\n",
      "The following are some of the attributes for the Action that created the Result: \n",
      "ActionTypeCV: Observation\n",
      "ActionDescription: An observation action that generated a time series result.\n",
      "BeginDateTime: 2007-08-16 16:30:00\n",
      "EndDateTime: 2009-01-16 12:30:00\n",
      "MethodName: Quality Control Level 1 Data Series created from raw QC Level 0 data using ODM Tools.\n",
      "MethodDescription: Quality Control Level 1 Data Series created from raw QC Level 0 data using ODM Tools.\n"
     ]
    }
   ],
   "source": [
    "try:\n",
    "    # Call getResults, but return only the first Result\n",
    "    firstResult = read.getResults()[0]\n",
    "    frfa = firstResult.FeatureActionObj\n",
    "    frfaa = firstResult.FeatureActionObj.ActionObj\n",
    "    print(\"The ResultID for the Result is: {}\".format(firstResult.ResultID))\n",
    "    print(\"The FeatureAction object for the Result is: \", frfa)\n",
    "    print(\"The Action object for the Result is: \", frfaa)\n",
    "    \n",
    "    # Print some Action attributes in a more human readable form\n",
    "    print(\"\\nThe following are some of the attributes for the Action that created the Result: \")\n",
    "    print(\"ActionTypeCV: {}\".format(frfaa.ActionTypeCV))\n",
    "    print(\"ActionDescription: {}\".format(frfaa.ActionDescription))\n",
    "    print(\"BeginDateTime: {}\".format(frfaa.BeginDateTime))\n",
    "    print(\"EndDateTime: {}\".format(frfaa.EndDateTime))\n",
    "    print(\"MethodName: {}\".format(frfaa.MethodObj.MethodName))\n",
    "    print(\"MethodDescription: {}\".format(frfaa.MethodObj.MethodDescription))\n",
    "except Exception as e:\n",
    "    print(\"Unable to demo Foreign Key Example: {}\".format(e))"
   ]
  },
  {
   "cell_type": "markdown",
   "metadata": {},
   "source": [
    "### Retrieve Attributes of a Time Series Result using a ResultID\n",
    "Use the ResultID (1) from the above result to issue a filtered query."
   ]
  },
  {
   "cell_type": "code",
   "execution_count": 12,
   "metadata": {},
   "outputs": [
    {
     "data": {
      "text/plain": [
       "(odm2api.models.TimeSeriesResults,\n",
       " {'FeatureActionID': 1,\n",
       "  'FeatureActionObj': <FeatureActions({'FeatureActionID': 1, 'SamplingFeatureID': 1, 'ActionID': 1})>,\n",
       "  'ProcessingLevelID': 1,\n",
       "  'ResultDateTime': datetime.datetime(2016, 3, 3, 23, 43, 37, 369446),\n",
       "  'ResultDateTimeUTCOffset': -7,\n",
       "  'ResultID': 1,\n",
       "  'ResultTypeCV': u'Time series coverage',\n",
       "  'ResultUUID': u'6c769102-e1d4-11e5-8d14-f45c8999816f',\n",
       "  'SampledMediumCV': u'Surface Water',\n",
       "  'StatusCV': u'Unknown',\n",
       "  'TaxonomicClassifierID': None,\n",
       "  'UnitsID': 96,\n",
       "  'ValidDateTime': None,\n",
       "  'ValidDateTimeUTCOffset': None,\n",
       "  'ValueCount': 24206,\n",
       "  'VariableID': 1,\n",
       "  '_sa_instance_state': <sqlalchemy.orm.state.InstanceState at 0x7fc8bc4d6d90>})"
      ]
     },
     "execution_count": 12,
     "metadata": {},
     "output_type": "execute_result"
    }
   ],
   "source": [
    "# Filering on a single ResultID will invariably return a single result; \n",
    "# so, get the single element in the returned list\n",
    "tsResult = read.getResults(ids=[1])[0]\n",
    "\n",
    "# Examine the object type and content\n",
    "type(tsResult), vars(tsResult)"
   ]
  },
  {
   "cell_type": "markdown",
   "metadata": {},
   "source": [
    "### Get a Result and its Attributes\n",
    "\n",
    "Because all of the objects are returned in a nested form, if you retrieve a result, you can interrogate it to get all of its related attributes. When a Result object is returned, it includes objects that contain information about Variable, Units, ProcessingLevel, and the related Action that created that Result."
   ]
  },
  {
   "cell_type": "code",
   "execution_count": 13,
   "metadata": {},
   "outputs": [
    {
     "name": "stdout",
     "output_type": "stream",
     "text": [
      "------- Example of Retrieving Attributes of a Result -------\n",
      "The following are some of the attributes for the Result retrieved: \n",
      "ResultID: 1\n",
      "ResultTypeCV: Time series coverage\n",
      "ValueCount: 24206\n",
      "ProcessingLevel: Quality controlled data\n",
      "SampledMedium: Surface Water\n",
      "Variable: USU36: Temperature\n",
      "AggregationStatisticCV: Average\n",
      "Units: degree celsius\n",
      "SamplingFeatureID: 1\n",
      "SamplingFeatureCode: USU-LBR-Mendon\n"
     ]
    }
   ],
   "source": [
    "print(\"------- Example of Retrieving Attributes of a Result -------\")\n",
    "try:\n",
    "    firstResult = read.getResults()[0]\n",
    "    frfa = firstResult.FeatureActionObj\n",
    "    print(\"The following are some of the attributes for the Result retrieved: \")\n",
    "    print(\"ResultID: {}\".format(firstResult.ResultID))\n",
    "    print(\"ResultTypeCV: {}\".format(firstResult.ResultTypeCV))\n",
    "    print(\"ValueCount: {}\".format(firstResult.ValueCount))\n",
    "    print(\"ProcessingLevel: {}\".format(firstResult.ProcessingLevelObj.Definition))\n",
    "    print(\"SampledMedium: {}\".format(firstResult.SampledMediumCV))\n",
    "    print(\"Variable: {}: {}\".format(firstResult.VariableObj.VariableCode, \n",
    "                                    firstResult.VariableObj.VariableNameCV))\n",
    "    print(\"AggregationStatisticCV: {}\".format(firstResult.AggregationStatisticCV))\n",
    "    print(\"Units: {}\".format(firstResult.UnitsObj.UnitsName))\n",
    "    print(\"SamplingFeatureID: {}\".format(frfa.SamplingFeatureObj.SamplingFeatureID))\n",
    "    print(\"SamplingFeatureCode: {}\".format(frfa.SamplingFeatureObj.SamplingFeatureCode))\n",
    "except Exception as e:\n",
    "    print(\"Unable to demo example of retrieving Attributes of a Result: {}\".format(e))"
   ]
  },
  {
   "cell_type": "markdown",
   "metadata": {},
   "source": [
    "-----------------------------------------\n",
    "\n",
    "## Retrieve Time Series Result Values for a given Result\n",
    "\n",
    "The database contains a single time series result (a time series of water temperature sensor data at a single site). Let's use the **getResults( )** function to retrieve the time series values for this result by passing in the ResultID. We set the index to `ValueDateTime` for convenience."
   ]
  },
  {
   "cell_type": "code",
   "execution_count": 14,
   "metadata": {},
   "outputs": [
    {
     "data": {
      "text/html": [
       "<div>\n",
       "<style scoped>\n",
       "    .dataframe tbody tr th:only-of-type {\n",
       "        vertical-align: middle;\n",
       "    }\n",
       "\n",
       "    .dataframe tbody tr th {\n",
       "        vertical-align: top;\n",
       "    }\n",
       "\n",
       "    .dataframe thead th {\n",
       "        text-align: right;\n",
       "    }\n",
       "</style>\n",
       "<table border=\"1\" class=\"dataframe\">\n",
       "  <thead>\n",
       "    <tr style=\"text-align: right;\">\n",
       "      <th></th>\n",
       "      <th>ValueID</th>\n",
       "      <th>ResultID</th>\n",
       "      <th>DataValue</th>\n",
       "      <th>ValueDateTimeUTCOffset</th>\n",
       "      <th>CensorCodeCV</th>\n",
       "      <th>QualityCodeCV</th>\n",
       "      <th>TimeAggregationInterval</th>\n",
       "      <th>TimeAggregationIntervalUnitsID</th>\n",
       "    </tr>\n",
       "    <tr>\n",
       "      <th>ValueDateTime</th>\n",
       "      <th></th>\n",
       "      <th></th>\n",
       "      <th></th>\n",
       "      <th></th>\n",
       "      <th></th>\n",
       "      <th></th>\n",
       "      <th></th>\n",
       "      <th></th>\n",
       "    </tr>\n",
       "  </thead>\n",
       "  <tbody>\n",
       "    <tr>\n",
       "      <th>2007-08-16 16:30:00</th>\n",
       "      <td>1</td>\n",
       "      <td>1</td>\n",
       "      <td>22.20000</td>\n",
       "      <td>-7</td>\n",
       "      <td>nc</td>\n",
       "      <td>Unknown</td>\n",
       "      <td>30.0</td>\n",
       "      <td>102</td>\n",
       "    </tr>\n",
       "    <tr>\n",
       "      <th>2007-08-16 17:00:00</th>\n",
       "      <td>2</td>\n",
       "      <td>1</td>\n",
       "      <td>22.19833</td>\n",
       "      <td>-7</td>\n",
       "      <td>nc</td>\n",
       "      <td>Unknown</td>\n",
       "      <td>30.0</td>\n",
       "      <td>102</td>\n",
       "    </tr>\n",
       "    <tr>\n",
       "      <th>2007-08-16 17:30:00</th>\n",
       "      <td>3</td>\n",
       "      <td>1</td>\n",
       "      <td>22.18500</td>\n",
       "      <td>-7</td>\n",
       "      <td>nc</td>\n",
       "      <td>Unknown</td>\n",
       "      <td>30.0</td>\n",
       "      <td>102</td>\n",
       "    </tr>\n",
       "    <tr>\n",
       "      <th>2007-08-16 18:00:00</th>\n",
       "      <td>4</td>\n",
       "      <td>1</td>\n",
       "      <td>22.03833</td>\n",
       "      <td>-7</td>\n",
       "      <td>nc</td>\n",
       "      <td>Unknown</td>\n",
       "      <td>30.0</td>\n",
       "      <td>102</td>\n",
       "    </tr>\n",
       "    <tr>\n",
       "      <th>2007-08-16 18:30:00</th>\n",
       "      <td>5</td>\n",
       "      <td>1</td>\n",
       "      <td>21.88167</td>\n",
       "      <td>-7</td>\n",
       "      <td>nc</td>\n",
       "      <td>Unknown</td>\n",
       "      <td>30.0</td>\n",
       "      <td>102</td>\n",
       "    </tr>\n",
       "  </tbody>\n",
       "</table>\n",
       "</div>"
      ],
      "text/plain": [
       "                     ValueID  ResultID  DataValue  ValueDateTimeUTCOffset  \\\n",
       "ValueDateTime                                                               \n",
       "2007-08-16 16:30:00        1         1   22.20000                      -7   \n",
       "2007-08-16 17:00:00        2         1   22.19833                      -7   \n",
       "2007-08-16 17:30:00        3         1   22.18500                      -7   \n",
       "2007-08-16 18:00:00        4         1   22.03833                      -7   \n",
       "2007-08-16 18:30:00        5         1   21.88167                      -7   \n",
       "\n",
       "                    CensorCodeCV QualityCodeCV  TimeAggregationInterval  \\\n",
       "ValueDateTime                                                             \n",
       "2007-08-16 16:30:00           nc       Unknown                     30.0   \n",
       "2007-08-16 17:00:00           nc       Unknown                     30.0   \n",
       "2007-08-16 17:30:00           nc       Unknown                     30.0   \n",
       "2007-08-16 18:00:00           nc       Unknown                     30.0   \n",
       "2007-08-16 18:30:00           nc       Unknown                     30.0   \n",
       "\n",
       "                     TimeAggregationIntervalUnitsID  \n",
       "ValueDateTime                                        \n",
       "2007-08-16 16:30:00                             102  \n",
       "2007-08-16 17:00:00                             102  \n",
       "2007-08-16 17:30:00                             102  \n",
       "2007-08-16 18:00:00                             102  \n",
       "2007-08-16 18:30:00                             102  "
      ]
     },
     "execution_count": 14,
     "metadata": {},
     "output_type": "execute_result"
    }
   ],
   "source": [
    "# Get the values for a particular TimeSeriesResult; a Pandas Dataframe is returned\n",
    "tsValues = read.getResultValues(resultids=[1], lowercols=False)\n",
    "tsValues.loc[:, 'ValueDateTime'] = pd.to_datetime(tsValues['ValueDateTime'])\n",
    "tsValues.set_index('ValueDateTime', inplace=True)\n",
    "tsValues.sort_index(inplace=True)\n",
    "\n",
    "tsValues.head()"
   ]
  },
  {
   "cell_type": "markdown",
   "metadata": {},
   "source": [
    "**10/5/2018. NOTE CURRENT ISSUE REGARDING `ValueDateTime` RETURNED BY `read.getResultValues`.** There seems to be an unexpected behavior with the data type returned for `ValueDateTime` for SQLite databases. It should be a datetime, but it's currently a string. This is [being investigated](https://github.com/ODM2/ODM2PythonAPI/issues/158). For now, we are converting to a datetime manually, above, via the statement:\n",
    "```python\n",
    "resultValues.loc[:, 'ValueDateTime'] = pd.to_datetime(resultValues['ValueDateTime'])\n",
    "```\n",
    "This problem is present in `odm2api` version 0.7.1, but was not present in Nov. 2017"
   ]
  },
  {
   "cell_type": "markdown",
   "metadata": {},
   "source": [
    "### Now plot the time series\n",
    "First as a very quick and easy plot using the Pandas Dataframe `plot` method with default settings. Then with fancier matplotlib customizations of the axes and figure size."
   ]
  },
  {
   "cell_type": "code",
   "execution_count": 15,
   "metadata": {},
   "outputs": [
    {
     "data": {
      "text/plain": [
       "<matplotlib.axes._subplots.AxesSubplot at 0x7fc8bbb5af10>"
      ]
     },
     "execution_count": 15,
     "metadata": {},
     "output_type": "execute_result"
    },
    {
     "data": {
      "image/png": "[encoded data removed]",
      "text/plain": [
       "<Figure size 432x288 with 1 Axes>"
      ]
     },
     "metadata": {
      "needs_background": "light"
     },
     "output_type": "display_data"
    }
   ],
   "source": [
    "tsValues['DataValue'].plot()"
   ]
  },
  {
   "cell_type": "code",
   "execution_count": 16,
   "metadata": {
    "scrolled": true
   },
   "outputs": [
    {
     "data": {
      "image/png": "[encoded data removed]",
      "text/plain": [
       "<Figure size 864x288 with 1 Axes>"
      ]
     },
     "metadata": {
      "needs_background": "light"
     },
     "output_type": "display_data"
    }
   ],
   "source": [
    "fig, ax = plt.subplots(figsize=(12, 4))\n",
    "tsValues['DataValue'].plot(ax=ax)\n",
    "\n",
    "ax.set_ylabel('{} ({})'.format(\n",
    "    tsResult.VariableObj.VariableNameCV, tsResult.UnitsObj.UnitsAbbreviation))\n",
    "ax.set_xlabel('')\n",
    "\n",
    "ax.xaxis.set_minor_locator(mpl.dates.MonthLocator())\n",
    "ax.xaxis.set_minor_formatter(mpl.dates.DateFormatter('%b'))\n",
    "ax.xaxis.set_major_locator(mpl.dates.YearLocator())\n",
    "ax.xaxis.set_major_formatter(mpl.dates.DateFormatter('\\n%Y'))"
   ]
  },
  {
   "cell_type": "code",
   "execution_count": null,
   "metadata": {},
   "outputs": [],
   "source": []
  }
 ],
 "metadata": {
  "kernelspec": {
   "display_name": "Python [conda env:odm2client_20180915]",
   "language": "python",
   "name": "conda-env-odm2client_20180915-py"
  },
  "language_info": {
   "codemirror_mode": {
    "name": "ipython",
    "version": 2
   },
   "file_extension": ".py",
   "mimetype": "text/x-python",
   "name": "python",
   "nbconvert_exporter": "python",
   "pygments_lexer": "ipython2",
   "version": "2.7.15"
  }
 },
 "nbformat": 4,
 "nbformat_minor": 2
}
