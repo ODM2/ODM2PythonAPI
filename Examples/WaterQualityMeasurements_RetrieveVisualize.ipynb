{
 "cells": [
  {
   "cell_type": "markdown",
   "metadata": {},
   "source": [
    "# ODM2 API: Retrieve, manipulate and visualize ODM2 water quality measurement-type data"
   ]
  },
  {
   "cell_type": "markdown",
   "metadata": {},
   "source": [
    "This example shows how to use the ODM2 Python API (`odm2api`) to connect to an ODM2 database, retrieve data, and analyze and visualize the data. The [database (iUTAHGAMUT_waterquality_measurementresults_ODM2.sqlite)](https://github.com/ODM2/ODM2PythonAPI/blob/master/Examples/data/iUTAHGAMUT_waterquality_measurementresults_ODM2.sqlite) contains [\"measurement\"-type results](http://vocabulary.odm2.org/resulttype/measurement/).\n",
    "\n",
    "This example uses SQLite for the database because it doesn't require a server. However, the ODM2 Python API demonstrated here can alse be used with ODM2 databases implemented in MySQL, PostgreSQL or Microsoft SQL Server.\n",
    "\n",
    "More details on the ODM2 Python API and its source code and latest development can be found at https://github.com/ODM2/ODM2PythonAPI\n",
    "\n",
    "[Emilio Mayorga](https://github.com/emiliom/). Last updated 2018-10-7."
   ]
  },
  {
   "cell_type": "markdown",
   "metadata": {},
   "source": [
    "Adapted from notebook https://github.com/BiG-CZ/wshp2017_tutorial_content/blob/master/notebooks/ODM2_Example3.ipynb, based in part on earlier code and an ODM2 database from [Jeff Horsburgh's group](http://jeffh.usu.edu) at Utah State University."
   ]
  },
  {
   "cell_type": "code",
   "execution_count": 1,
   "metadata": {},
   "outputs": [],
   "source": [
    "%matplotlib inline\n",
    "\n",
    "import os\n",
    "\n",
    "import matplotlib.pyplot as plt\n",
    "from shapely.geometry import Point\n",
    "import pandas as pd\n",
    "import geopandas as gpd\n",
    "import folium\n",
    "from folium.plugins import MarkerCluster\n",
    "\n",
    "import odm2api\n",
    "from odm2api.ODMconnection import dbconnection\n",
    "import odm2api.services.readService as odm2rs\n",
    "from odm2api.models import SamplingFeatures"
   ]
  },
  {
   "cell_type": "code",
   "execution_count": 2,
   "metadata": {},
   "outputs": [
    {
     "data": {
      "text/plain": [
       "(u'0.23.4', u'0.4.0', u'0.6.0')"
      ]
     },
     "execution_count": 2,
     "metadata": {},
     "output_type": "execute_result"
    }
   ],
   "source": [
    "pd.__version__, gpd.__version__, folium.__version__"
   ]
  },
  {
   "cell_type": "markdown",
   "metadata": {},
   "source": [
    "**odm2api version used** to run this notebook:"
   ]
  },
  {
   "cell_type": "code",
   "execution_count": 3,
   "metadata": {},
   "outputs": [
    {
     "data": {
      "text/plain": [
       "u'0.7.1'"
      ]
     },
     "execution_count": 3,
     "metadata": {},
     "output_type": "execute_result"
    }
   ],
   "source": [
    "odm2api.__version__"
   ]
  },
  {
   "cell_type": "markdown",
   "metadata": {},
   "source": [
    "## Connect to the ODM2 SQLite Database\n",
    "\n",
    "This example uses an ODM2 SQLite database file loaded with water quality sample data from multiple monitoring sites in the [iUTAH](https://iutahepscor.org/) Gradients Along Mountain to Urban Transitions ([GAMUT](http://data.iutahepscor.org/mdf/Data/Gamut_Network/)) water quality monitoring network. Water quality samples have been collected and analyzed for nitrogen, phosphorus, total coliform, E-coli, and some water isotopes. The [database (iUTAHGAMUT_waterquality_measurementresults_ODM2.sqlite)](https://github.com/ODM2/ODM2PythonAPI/blob/master/Examples/data/iUTAHGAMUT_waterquality_measurementresults_ODM2.sqlite) contains [\"measurement\"-type results](http://vocabulary.odm2.org/resulttype/measurement/).\n",
    "\n",
    "The example database is located in the `data` sub-directory."
   ]
  },
  {
   "cell_type": "code",
   "execution_count": 4,
   "metadata": {},
   "outputs": [],
   "source": [
    "# Assign directory paths and SQLite file name\n",
    "dbname_sqlite = \"iUTAHGAMUT_waterquality_measurementresults_ODM2.sqlite\"\n",
    "\n",
    "sqlite_pth = os.path.join(\"data\", dbname_sqlite)"
   ]
  },
  {
   "cell_type": "code",
   "execution_count": 5,
   "metadata": {},
   "outputs": [
    {
     "name": "stdout",
     "output_type": "stream",
     "text": [
      "Database connection successful!\n"
     ]
    }
   ],
   "source": [
    "try:\n",
    "    session_factory = dbconnection.createConnection('sqlite', sqlite_pth)\n",
    "    read = odm2rs.ReadODM2(session_factory)\n",
    "    print(\"Database connection successful!\")\n",
    "except Exception as e:\n",
    "    print(\"Unable to establish connection to the database: \", e)"
   ]
  },
  {
   "cell_type": "markdown",
   "metadata": {},
   "source": [
    "## Run Some Basic Queries on the ODM2 Database\n",
    "\n",
    "This section shows some examples of how to use the API to run both simple and more advanced queries on the ODM2 database, as well as how to examine the query output in convenient ways thanks to Python tools.\n",
    "\n",
    "Simple query functions like **getVariables( )** return objects similar to the entities in ODM2, and individual attributes can then be retrieved from the objects returned. "
   ]
  },
  {
   "cell_type": "markdown",
   "metadata": {},
   "source": [
    "### Get all Variables\n",
    "A simple query with simple output."
   ]
  },
  {
   "cell_type": "code",
   "execution_count": 6,
   "metadata": {},
   "outputs": [
    {
     "data": {
      "text/html": [
       "<div>\n",
       "<style scoped>\n",
       "    .dataframe tbody tr th:only-of-type {\n",
       "        vertical-align: middle;\n",
       "    }\n",
       "\n",
       "    .dataframe tbody tr th {\n",
       "        vertical-align: top;\n",
       "    }\n",
       "\n",
       "    .dataframe thead th {\n",
       "        text-align: right;\n",
       "    }\n",
       "</style>\n",
       "<table border=\"1\" class=\"dataframe\">\n",
       "  <thead>\n",
       "    <tr style=\"text-align: right;\">\n",
       "      <th></th>\n",
       "      <th>NoDataValue</th>\n",
       "      <th>SpeciationCV</th>\n",
       "      <th>VariableCode</th>\n",
       "      <th>VariableDefinition</th>\n",
       "      <th>VariableNameCV</th>\n",
       "      <th>VariableTypeCV</th>\n",
       "      <th>_sa_instance_state</th>\n",
       "    </tr>\n",
       "    <tr>\n",
       "      <th>VariableID</th>\n",
       "      <th></th>\n",
       "      <th></th>\n",
       "      <th></th>\n",
       "      <th></th>\n",
       "      <th></th>\n",
       "      <th></th>\n",
       "      <th></th>\n",
       "    </tr>\n",
       "  </thead>\n",
       "  <tbody>\n",
       "    <tr>\n",
       "      <th>1</th>\n",
       "      <td>-9999.0000000000</td>\n",
       "      <td>N</td>\n",
       "      <td>TN</td>\n",
       "      <td>None</td>\n",
       "      <td>Nitrogen, total</td>\n",
       "      <td>Water quality</td>\n",
       "      <td>&lt;sqlalchemy.orm.state.InstanceState object at ...</td>\n",
       "    </tr>\n",
       "    <tr>\n",
       "      <th>2</th>\n",
       "      <td>-9999.0000000000</td>\n",
       "      <td>P</td>\n",
       "      <td>TP</td>\n",
       "      <td>None</td>\n",
       "      <td>Phosphorus, total</td>\n",
       "      <td>Water quality</td>\n",
       "      <td>&lt;sqlalchemy.orm.state.InstanceState object at ...</td>\n",
       "    </tr>\n",
       "    <tr>\n",
       "      <th>3</th>\n",
       "      <td>-9999.0000000000</td>\n",
       "      <td>N</td>\n",
       "      <td>Nitrate</td>\n",
       "      <td>None</td>\n",
       "      <td>Nitrogen, dissolved nitrite (NO2) + nitrate (NO3)</td>\n",
       "      <td>Water quality</td>\n",
       "      <td>&lt;sqlalchemy.orm.state.InstanceState object at ...</td>\n",
       "    </tr>\n",
       "    <tr>\n",
       "      <th>4</th>\n",
       "      <td>-9999.0000000000</td>\n",
       "      <td>N</td>\n",
       "      <td>Ammonia</td>\n",
       "      <td>None</td>\n",
       "      <td>Nitrogen, NH4</td>\n",
       "      <td>Water quality</td>\n",
       "      <td>&lt;sqlalchemy.orm.state.InstanceState object at ...</td>\n",
       "    </tr>\n",
       "    <tr>\n",
       "      <th>5</th>\n",
       "      <td>-9999.0000000000</td>\n",
       "      <td>P</td>\n",
       "      <td>Phosphate</td>\n",
       "      <td>None</td>\n",
       "      <td>Phosphorus, orthophosphate dissolved</td>\n",
       "      <td>Water quality</td>\n",
       "      <td>&lt;sqlalchemy.orm.state.InstanceState object at ...</td>\n",
       "    </tr>\n",
       "    <tr>\n",
       "      <th>6</th>\n",
       "      <td>-9999.0000000000</td>\n",
       "      <td>Not Applicable</td>\n",
       "      <td>Tcoliform</td>\n",
       "      <td>None</td>\n",
       "      <td>Coliform, total</td>\n",
       "      <td>Water quality</td>\n",
       "      <td>&lt;sqlalchemy.orm.state.InstanceState object at ...</td>\n",
       "    </tr>\n",
       "    <tr>\n",
       "      <th>7</th>\n",
       "      <td>-9999.0000000000</td>\n",
       "      <td>Not Applicable</td>\n",
       "      <td>E-Coli</td>\n",
       "      <td>None</td>\n",
       "      <td>E-coli</td>\n",
       "      <td>Water quality</td>\n",
       "      <td>&lt;sqlalchemy.orm.state.InstanceState object at ...</td>\n",
       "    </tr>\n",
       "    <tr>\n",
       "      <th>8</th>\n",
       "      <td>-9999.0000000000</td>\n",
       "      <td>C</td>\n",
       "      <td>DOC</td>\n",
       "      <td>None</td>\n",
       "      <td>Carbon, dissolved organic</td>\n",
       "      <td>Water quality</td>\n",
       "      <td>&lt;sqlalchemy.orm.state.InstanceState object at ...</td>\n",
       "    </tr>\n",
       "    <tr>\n",
       "      <th>9</th>\n",
       "      <td>-9999.0000000000</td>\n",
       "      <td>N</td>\n",
       "      <td>TDN</td>\n",
       "      <td>None</td>\n",
       "      <td>Nitrogen, total dissolved</td>\n",
       "      <td>Water quality</td>\n",
       "      <td>&lt;sqlalchemy.orm.state.InstanceState object at ...</td>\n",
       "    </tr>\n",
       "    <tr>\n",
       "      <th>10</th>\n",
       "      <td>-9999.0000000000</td>\n",
       "      <td>Not Applicable</td>\n",
       "      <td>Abs254</td>\n",
       "      <td>None</td>\n",
       "      <td>Absorbance</td>\n",
       "      <td>Water quality</td>\n",
       "      <td>&lt;sqlalchemy.orm.state.InstanceState object at ...</td>\n",
       "    </tr>\n",
       "  </tbody>\n",
       "</table>\n",
       "</div>"
      ],
      "text/plain": [
       "                 NoDataValue    SpeciationCV VariableCode VariableDefinition  \\\n",
       "VariableID                                                                     \n",
       "1           -9999.0000000000               N           TN               None   \n",
       "2           -9999.0000000000               P           TP               None   \n",
       "3           -9999.0000000000               N      Nitrate               None   \n",
       "4           -9999.0000000000               N      Ammonia               None   \n",
       "5           -9999.0000000000               P    Phosphate               None   \n",
       "6           -9999.0000000000  Not Applicable    Tcoliform               None   \n",
       "7           -9999.0000000000  Not Applicable       E-Coli               None   \n",
       "8           -9999.0000000000               C          DOC               None   \n",
       "9           -9999.0000000000               N          TDN               None   \n",
       "10          -9999.0000000000  Not Applicable       Abs254               None   \n",
       "\n",
       "                                               VariableNameCV VariableTypeCV  \\\n",
       "VariableID                                                                     \n",
       "1                                             Nitrogen, total  Water quality   \n",
       "2                                           Phosphorus, total  Water quality   \n",
       "3           Nitrogen, dissolved nitrite (NO2) + nitrate (NO3)  Water quality   \n",
       "4                                               Nitrogen, NH4  Water quality   \n",
       "5                        Phosphorus, orthophosphate dissolved  Water quality   \n",
       "6                                             Coliform, total  Water quality   \n",
       "7                                                      E-coli  Water quality   \n",
       "8                                   Carbon, dissolved organic  Water quality   \n",
       "9                                   Nitrogen, total dissolved  Water quality   \n",
       "10                                                 Absorbance  Water quality   \n",
       "\n",
       "                                           _sa_instance_state  \n",
       "VariableID                                                     \n",
       "1           <sqlalchemy.orm.state.InstanceState object at ...  \n",
       "2           <sqlalchemy.orm.state.InstanceState object at ...  \n",
       "3           <sqlalchemy.orm.state.InstanceState object at ...  \n",
       "4           <sqlalchemy.orm.state.InstanceState object at ...  \n",
       "5           <sqlalchemy.orm.state.InstanceState object at ...  \n",
       "6           <sqlalchemy.orm.state.InstanceState object at ...  \n",
       "7           <sqlalchemy.orm.state.InstanceState object at ...  \n",
       "8           <sqlalchemy.orm.state.InstanceState object at ...  \n",
       "9           <sqlalchemy.orm.state.InstanceState object at ...  \n",
       "10          <sqlalchemy.orm.state.InstanceState object at ...  "
      ]
     },
     "execution_count": 6,
     "metadata": {},
     "output_type": "execute_result"
    }
   ],
   "source": [
    "# Get all of the Variables from the ODM2 database then read the records\n",
    "# into a Pandas DataFrame to make it easy to view and manipulate\n",
    "allVars = read.getVariables()\n",
    "\n",
    "variables_df = pd.DataFrame.from_records([vars(variable) for variable in allVars], \n",
    "                                         index='VariableID')\n",
    "variables_df.head(10)"
   ]
  },
  {
   "cell_type": "markdown",
   "metadata": {},
   "source": [
    "### Get all People\n",
    "Another simple query."
   ]
  },
  {
   "cell_type": "code",
   "execution_count": 7,
   "metadata": {},
   "outputs": [
    {
     "data": {
      "text/html": [
       "<div>\n",
       "<style scoped>\n",
       "    .dataframe tbody tr th:only-of-type {\n",
       "        vertical-align: middle;\n",
       "    }\n",
       "\n",
       "    .dataframe tbody tr th {\n",
       "        vertical-align: top;\n",
       "    }\n",
       "\n",
       "    .dataframe thead th {\n",
       "        text-align: right;\n",
       "    }\n",
       "</style>\n",
       "<table border=\"1\" class=\"dataframe\">\n",
       "  <thead>\n",
       "    <tr style=\"text-align: right;\">\n",
       "      <th></th>\n",
       "      <th>PersonFirstName</th>\n",
       "      <th>PersonID</th>\n",
       "      <th>PersonLastName</th>\n",
       "      <th>PersonMiddleName</th>\n",
       "      <th>_sa_instance_state</th>\n",
       "    </tr>\n",
       "  </thead>\n",
       "  <tbody>\n",
       "    <tr>\n",
       "      <th>0</th>\n",
       "      <td>Nancy</td>\n",
       "      <td>1</td>\n",
       "      <td>Mesner</td>\n",
       "      <td></td>\n",
       "      <td>&lt;sqlalchemy.orm.state.InstanceState object at ...</td>\n",
       "    </tr>\n",
       "    <tr>\n",
       "      <th>1</th>\n",
       "      <td>Dane</td>\n",
       "      <td>2</td>\n",
       "      <td>Brophy</td>\n",
       "      <td></td>\n",
       "      <td>&lt;sqlalchemy.orm.state.InstanceState object at ...</td>\n",
       "    </tr>\n",
       "    <tr>\n",
       "      <th>2</th>\n",
       "      <td>Ben</td>\n",
       "      <td>3</td>\n",
       "      <td>Rider</td>\n",
       "      <td></td>\n",
       "      <td>&lt;sqlalchemy.orm.state.InstanceState object at ...</td>\n",
       "    </tr>\n",
       "    <tr>\n",
       "      <th>3</th>\n",
       "      <td>Michelle</td>\n",
       "      <td>4</td>\n",
       "      <td>Baker</td>\n",
       "      <td></td>\n",
       "      <td>&lt;sqlalchemy.orm.state.InstanceState object at ...</td>\n",
       "    </tr>\n",
       "    <tr>\n",
       "      <th>4</th>\n",
       "      <td>Erin</td>\n",
       "      <td>5</td>\n",
       "      <td>Jones</td>\n",
       "      <td></td>\n",
       "      <td>&lt;sqlalchemy.orm.state.InstanceState object at ...</td>\n",
       "    </tr>\n",
       "  </tbody>\n",
       "</table>\n",
       "</div>"
      ],
      "text/plain": [
       "  PersonFirstName  PersonID PersonLastName PersonMiddleName  \\\n",
       "0           Nancy         1         Mesner                    \n",
       "1            Dane         2         Brophy                    \n",
       "2             Ben         3          Rider                    \n",
       "3        Michelle         4          Baker                    \n",
       "4            Erin         5          Jones                    \n",
       "\n",
       "                                  _sa_instance_state  \n",
       "0  <sqlalchemy.orm.state.InstanceState object at ...  \n",
       "1  <sqlalchemy.orm.state.InstanceState object at ...  \n",
       "2  <sqlalchemy.orm.state.InstanceState object at ...  \n",
       "3  <sqlalchemy.orm.state.InstanceState object at ...  \n",
       "4  <sqlalchemy.orm.state.InstanceState object at ...  "
      ]
     },
     "execution_count": 7,
     "metadata": {},
     "output_type": "execute_result"
    }
   ],
   "source": [
    "allPeople = read.getPeople()\n",
    "pd.DataFrame.from_records([vars(person) for person in allPeople]).head()"
   ]
  },
  {
   "cell_type": "markdown",
   "metadata": {},
   "source": [
    "### Site Sampling Features: pass arguments to the API query\n",
    "\n",
    "Some of the API functions accept arguments that let you subset what is returned. For example, I can query the database using the **getSamplingFeatures( )** function and pass it a SamplingFeatureType of \"Site\" to return a list of those SamplingFeatures that are Sites."
   ]
  },
  {
   "cell_type": "code",
   "execution_count": 8,
   "metadata": {},
   "outputs": [],
   "source": [
    "# Get all of the SamplingFeatures from the ODM2 database that are Sites\n",
    "siteFeatures = read.getSamplingFeatures(sftype='Site')\n",
    "\n",
    "# Read Sites records into a Pandas DataFrame\n",
    "# \"if sf.Latitude\" is used only to instantiate/read Site attributes)\n",
    "df = pd.DataFrame.from_records([vars(sf) for sf in siteFeatures if sf.Latitude])"
   ]
  },
  {
   "cell_type": "markdown",
   "metadata": {},
   "source": [
    "Since we know this is a *geospatial* dataset (Sites, which have latitude and longitude), we can use more specialized Python tools like `GeoPandas` (geospatially enabled Pandas) and `Folium` interactive maps."
   ]
  },
  {
   "cell_type": "code",
   "execution_count": 9,
   "metadata": {},
   "outputs": [
    {
     "data": {
      "text/html": [
       "<div>\n",
       "<style scoped>\n",
       "    .dataframe tbody tr th:only-of-type {\n",
       "        vertical-align: middle;\n",
       "    }\n",
       "\n",
       "    .dataframe tbody tr th {\n",
       "        vertical-align: top;\n",
       "    }\n",
       "\n",
       "    .dataframe thead th {\n",
       "        text-align: right;\n",
       "    }\n",
       "</style>\n",
       "<table border=\"1\" class=\"dataframe\">\n",
       "  <thead>\n",
       "    <tr style=\"text-align: right;\">\n",
       "      <th></th>\n",
       "      <th>ElevationDatumCV</th>\n",
       "      <th>Elevation_m</th>\n",
       "      <th>FeatureGeometryWKT</th>\n",
       "      <th>Latitude</th>\n",
       "      <th>Longitude</th>\n",
       "      <th>SamplingFeatureCode</th>\n",
       "      <th>SamplingFeatureDescription</th>\n",
       "      <th>SamplingFeatureGeotypeCV</th>\n",
       "      <th>SamplingFeatureID</th>\n",
       "      <th>SamplingFeatureName</th>\n",
       "      <th>SamplingFeatureTypeCV</th>\n",
       "      <th>SamplingFeatureUUID</th>\n",
       "      <th>SiteTypeCV</th>\n",
       "      <th>SpatialReferenceID</th>\n",
       "      <th>_sa_instance_state</th>\n",
       "      <th>geometry</th>\n",
       "    </tr>\n",
       "  </thead>\n",
       "  <tbody>\n",
       "    <tr>\n",
       "      <th>0</th>\n",
       "      <td>EGM96</td>\n",
       "      <td>1356.0</td>\n",
       "      <td>None</td>\n",
       "      <td>40.745078</td>\n",
       "      <td>-111.854449</td>\n",
       "      <td>RB_1300E</td>\n",
       "      <td>None</td>\n",
       "      <td>None</td>\n",
       "      <td>1</td>\n",
       "      <td>Red Butte Creek at 1300E (downstream of spring)</td>\n",
       "      <td>Site</td>\n",
       "      <td>0DDE8EF6-EC2F-42C0-AB50-20C6C02E89B2</td>\n",
       "      <td>Stream</td>\n",
       "      <td>1</td>\n",
       "      <td>&lt;sqlalchemy.orm.state.InstanceState object at ...</td>\n",
       "      <td>POINT (-111.854449 40.745078)</td>\n",
       "    </tr>\n",
       "    <tr>\n",
       "      <th>1</th>\n",
       "      <td>EGM96</td>\n",
       "      <td>1356.0</td>\n",
       "      <td>None</td>\n",
       "      <td>40.745106</td>\n",
       "      <td>-111.854389</td>\n",
       "      <td>RB_1300ESpring</td>\n",
       "      <td>None</td>\n",
       "      <td>None</td>\n",
       "      <td>2</td>\n",
       "      <td>Spring that enters Red Butte Creek at 1300E</td>\n",
       "      <td>Site</td>\n",
       "      <td>9848BBFE-EA3F-4918-A324-13E8EDE5381C</td>\n",
       "      <td>Spring</td>\n",
       "      <td>1</td>\n",
       "      <td>&lt;sqlalchemy.orm.state.InstanceState object at ...</td>\n",
       "      <td>POINT (-111.854389 40.745106)</td>\n",
       "    </tr>\n",
       "    <tr>\n",
       "      <th>2</th>\n",
       "      <td>EGM96</td>\n",
       "      <td>1289.0</td>\n",
       "      <td>None</td>\n",
       "      <td>40.741583</td>\n",
       "      <td>-111.917667</td>\n",
       "      <td>RB_900W_BA</td>\n",
       "      <td>None</td>\n",
       "      <td>None</td>\n",
       "      <td>3</td>\n",
       "      <td>Red Butte Creek terminus at Jordan River at 13...</td>\n",
       "      <td>Site</td>\n",
       "      <td>688017BC-9E02-4444-A21D-270366BE2348</td>\n",
       "      <td>Stream</td>\n",
       "      <td>1</td>\n",
       "      <td>&lt;sqlalchemy.orm.state.InstanceState object at ...</td>\n",
       "      <td>POINT (-111.917667 40.741583)</td>\n",
       "    </tr>\n",
       "    <tr>\n",
       "      <th>3</th>\n",
       "      <td>EGM96</td>\n",
       "      <td>1519.0</td>\n",
       "      <td>None</td>\n",
       "      <td>40.766134</td>\n",
       "      <td>-111.826530</td>\n",
       "      <td>RB_Amphitheater</td>\n",
       "      <td>None</td>\n",
       "      <td>None</td>\n",
       "      <td>4</td>\n",
       "      <td>Red Butte Creek below Red Butte Garden Amphith...</td>\n",
       "      <td>Site</td>\n",
       "      <td>9CFE685B-5CDA-4E38-98D9-406D645C7D21</td>\n",
       "      <td>Stream</td>\n",
       "      <td>1</td>\n",
       "      <td>&lt;sqlalchemy.orm.state.InstanceState object at ...</td>\n",
       "      <td>POINT (-111.82653 40.766134)</td>\n",
       "    </tr>\n",
       "    <tr>\n",
       "      <th>4</th>\n",
       "      <td>EGM96</td>\n",
       "      <td>1648.0</td>\n",
       "      <td>None</td>\n",
       "      <td>40.779602</td>\n",
       "      <td>-111.806669</td>\n",
       "      <td>RB_ARBR_AA</td>\n",
       "      <td>None</td>\n",
       "      <td>None</td>\n",
       "      <td>5</td>\n",
       "      <td>Red Butte Creek above Red Butte Reservoir Adan...</td>\n",
       "      <td>Site</td>\n",
       "      <td>98C7F63A-FDFB-4898-87C6-5AA8EC34D1E4</td>\n",
       "      <td>Stream</td>\n",
       "      <td>1</td>\n",
       "      <td>&lt;sqlalchemy.orm.state.InstanceState object at ...</td>\n",
       "      <td>POINT (-111.806669 40.779602)</td>\n",
       "    </tr>\n",
       "  </tbody>\n",
       "</table>\n",
       "</div>"
      ],
      "text/plain": [
       "  ElevationDatumCV  Elevation_m FeatureGeometryWKT   Latitude   Longitude  \\\n",
       "0            EGM96       1356.0               None  40.745078 -111.854449   \n",
       "1            EGM96       1356.0               None  40.745106 -111.854389   \n",
       "2            EGM96       1289.0               None  40.741583 -111.917667   \n",
       "3            EGM96       1519.0               None  40.766134 -111.826530   \n",
       "4            EGM96       1648.0               None  40.779602 -111.806669   \n",
       "\n",
       "  SamplingFeatureCode SamplingFeatureDescription SamplingFeatureGeotypeCV  \\\n",
       "0            RB_1300E                       None                     None   \n",
       "1      RB_1300ESpring                       None                     None   \n",
       "2          RB_900W_BA                       None                     None   \n",
       "3     RB_Amphitheater                       None                     None   \n",
       "4          RB_ARBR_AA                       None                     None   \n",
       "\n",
       "   SamplingFeatureID                                SamplingFeatureName  \\\n",
       "0                  1    Red Butte Creek at 1300E (downstream of spring)   \n",
       "1                  2        Spring that enters Red Butte Creek at 1300E   \n",
       "2                  3  Red Butte Creek terminus at Jordan River at 13...   \n",
       "3                  4  Red Butte Creek below Red Butte Garden Amphith...   \n",
       "4                  5  Red Butte Creek above Red Butte Reservoir Adan...   \n",
       "\n",
       "  SamplingFeatureTypeCV                   SamplingFeatureUUID SiteTypeCV  \\\n",
       "0                  Site  0DDE8EF6-EC2F-42C0-AB50-20C6C02E89B2     Stream   \n",
       "1                  Site  9848BBFE-EA3F-4918-A324-13E8EDE5381C     Spring   \n",
       "2                  Site  688017BC-9E02-4444-A21D-270366BE2348     Stream   \n",
       "3                  Site  9CFE685B-5CDA-4E38-98D9-406D645C7D21     Stream   \n",
       "4                  Site  98C7F63A-FDFB-4898-87C6-5AA8EC34D1E4     Stream   \n",
       "\n",
       "   SpatialReferenceID                                 _sa_instance_state  \\\n",
       "0                   1  <sqlalchemy.orm.state.InstanceState object at ...   \n",
       "1                   1  <sqlalchemy.orm.state.InstanceState object at ...   \n",
       "2                   1  <sqlalchemy.orm.state.InstanceState object at ...   \n",
       "3                   1  <sqlalchemy.orm.state.InstanceState object at ...   \n",
       "4                   1  <sqlalchemy.orm.state.InstanceState object at ...   \n",
       "\n",
       "                        geometry  \n",
       "0  POINT (-111.854449 40.745078)  \n",
       "1  POINT (-111.854389 40.745106)  \n",
       "2  POINT (-111.917667 40.741583)  \n",
       "3   POINT (-111.82653 40.766134)  \n",
       "4  POINT (-111.806669 40.779602)  "
      ]
     },
     "execution_count": 9,
     "metadata": {},
     "output_type": "execute_result"
    }
   ],
   "source": [
    "# Create a GeoPandas GeoDataFrame from Sites DataFrame\n",
    "ptgeom = [Point(xy) for xy in zip(df['Longitude'], df['Latitude'])]\n",
    "gdf = gpd.GeoDataFrame(df, geometry=ptgeom, crs={'init': 'epsg:4326'})\n",
    "gdf.head(5)"
   ]
  },
  {
   "cell_type": "code",
   "execution_count": 10,
   "metadata": {},
   "outputs": [
    {
     "data": {
      "text/plain": [
       "25"
      ]
     },
     "execution_count": 10,
     "metadata": {},
     "output_type": "execute_result"
    }
   ],
   "source": [
    "# Number of records (features) in GeoDataFrame\n",
    "len(gdf)"
   ]
  },
  {
   "cell_type": "code",
   "execution_count": 11,
   "metadata": {},
   "outputs": [
    {
     "data": {
      "image/png": "[encoded data removed]",
      "text/plain": [
       "<Figure size 432x288 with 1 Axes>"
      ]
     },
     "metadata": {
      "needs_background": "light"
     },
     "output_type": "display_data"
    }
   ],
   "source": [
    "# A trivial but easy-to-generate GeoPandas plot\n",
    "gdf.plot();"
   ]
  },
  {
   "cell_type": "markdown",
   "metadata": {},
   "source": [
    "A site has a `SiteTypeCV`. Let's examine the site type distribution, and use that information to create a new GeoDataFrame column to specify a map marker color by `SiteTypeCV`."
   ]
  },
  {
   "cell_type": "code",
   "execution_count": 12,
   "metadata": {},
   "outputs": [
    {
     "data": {
      "text/plain": [
       "Stream    24\n",
       "Spring     1\n",
       "Name: SiteTypeCV, dtype: int64"
      ]
     },
     "execution_count": 12,
     "metadata": {},
     "output_type": "execute_result"
    }
   ],
   "source": [
    "gdf['SiteTypeCV'].value_counts()"
   ]
  },
  {
   "cell_type": "code",
   "execution_count": 13,
   "metadata": {},
   "outputs": [],
   "source": [
    "gdf[\"color\"] = gdf.apply(lambda feat: 'green' if feat['SiteTypeCV'] == 'Stream' else 'red', axis=1)"
   ]
  },
  {
   "cell_type": "markdown",
   "metadata": {},
   "source": [
    "Note: While the database holds a copy of the **ODM2 Controlled Vocabularies**, the complete description of each CV term is available from a web request to the CV API at http://vocabulary.odm2.org. Want to know more about how a \"spring\" is defined? Here's one simple way, using `Pandas` to access and parse the CSV web service response."
   ]
  },
  {
   "cell_type": "code",
   "execution_count": 14,
   "metadata": {},
   "outputs": [
    {
     "data": {
      "text/html": [
       "<div>\n",
       "<style scoped>\n",
       "    .dataframe tbody tr th:only-of-type {\n",
       "        vertical-align: middle;\n",
       "    }\n",
       "\n",
       "    .dataframe tbody tr th {\n",
       "        vertical-align: top;\n",
       "    }\n",
       "\n",
       "    .dataframe thead th {\n",
       "        text-align: right;\n",
       "    }\n",
       "</style>\n",
       "<table border=\"1\" class=\"dataframe\">\n",
       "  <thead>\n",
       "    <tr style=\"text-align: right;\">\n",
       "      <th></th>\n",
       "      <th>term</th>\n",
       "      <th>name</th>\n",
       "      <th>definition</th>\n",
       "      <th>category</th>\n",
       "      <th>provenance</th>\n",
       "      <th>provenance_uri</th>\n",
       "      <th>note</th>\n",
       "    </tr>\n",
       "  </thead>\n",
       "  <tbody>\n",
       "    <tr>\n",
       "      <th>0</th>\n",
       "      <td>spring</td>\n",
       "      <td>Spring</td>\n",
       "      <td>A location at which the water table intersects...</td>\n",
       "      <td>Spring Sites</td>\n",
       "      <td>Adapted from USGS Site Types.</td>\n",
       "      <td>NaN</td>\n",
       "      <td>http://wdr.water.usgs.gov/nwisgmap/help/sitety...</td>\n",
       "    </tr>\n",
       "  </tbody>\n",
       "</table>\n",
       "</div>"
      ],
      "text/plain": [
       "     term    name                                         definition  \\\n",
       "0  spring  Spring  A location at which the water table intersects...   \n",
       "\n",
       "       category                     provenance  provenance_uri  \\\n",
       "0  Spring Sites  Adapted from USGS Site Types.             NaN   \n",
       "\n",
       "                                                note  \n",
       "0  http://wdr.water.usgs.gov/nwisgmap/help/sitety...  "
      ]
     },
     "execution_count": 14,
     "metadata": {},
     "output_type": "execute_result"
    }
   ],
   "source": [
    "sitetype = 'spring'\n",
    "pd.read_csv(\"http://vocabulary.odm2.org/api/v1/sitetype/{}/?format=csv\".format(sitetype))"
   ]
  },
  {
   "cell_type": "markdown",
   "metadata": {},
   "source": [
    "**Now we'll create an interactive and helpful `Folium` map of the sites.** This map features:\n",
    "- Automatic panning to the location of the sites (no hard wiring, except for the zoom scale), based on GeoPandas functionality and information from the ODM2 Site Sampling Features\n",
    "- Color coding by `SiteTypeCV` \n",
    "- Marker clustering\n",
    "- Simple marker pop ups with content from the ODM2 Site Sampling Features"
   ]
  },
  {
   "cell_type": "code",
   "execution_count": 15,
   "metadata": {},
   "outputs": [
    {
     "data": {
      "text/html": [
       "<div style=\"width:100%;\"><div style=\"position:relative;width:100%;height:0;padding-bottom:60%;\"><iframe src=\"data:text/html;charset=utf-8;base64,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\" style=\"position:absolute;width:100%;height:100%;left:0;top:0;border:none !important;\" allowfullscreen webkitallowfullscreen mozallowfullscreen></iframe></div></div>"
      ],
      "text/plain": [
       "<folium.folium.Map at 0x7febfc3af190>"
      ]
     },
     "execution_count": 15,
     "metadata": {},
     "output_type": "execute_result"
    }
   ],
   "source": [
    "c = gdf.unary_union.centroid\n",
    "m = folium.Map(location=[c.y, c.x], tiles='CartoDB positron', zoom_start=11)\n",
    "\n",
    "marker_cluster = MarkerCluster().add_to(m)\n",
    "for idx, feature in gdf.iterrows():\n",
    "    folium.Marker(location=[feature.geometry.y, feature.geometry.x], \n",
    "                  icon=folium.Icon(color=feature['color']),\n",
    "                  popup=\"{0} ({1}): {2}\".format(\n",
    "                      feature['SamplingFeatureCode'], feature['SiteTypeCV'], \n",
    "                      feature['SamplingFeatureName'])\n",
    "                 ).add_to(marker_cluster)\n",
    "\n",
    "    \n",
    "# Done with setup. Now render the map\n",
    "m"
   ]
  },
  {
   "cell_type": "markdown",
   "metadata": {},
   "source": [
    "### Add a new Sampling Feature\n",
    "Just to llustrate how to add a new entry. We won't \"commit\" (save) the sampling feature to the database."
   ]
  },
  {
   "cell_type": "code",
   "execution_count": 16,
   "metadata": {},
   "outputs": [
    {
     "name": "stdout",
     "output_type": "stream",
     "text": [
      "New sampling feature created, but not saved to database.\n",
      "\n",
      "<SamplingFeatures({'SamplingFeatureDescription': 'this is a test to add a sampling feature', 'SamplingFeatureGeotypeCV': 'Point', 'ElevationDatumCV': u'EGM96', 'Elevation_m': 100, 'SamplingFeatureUUID': u'0DDE8EF6-EC2F-42C0-AB50-20C6C02E89B22', 'SamplingFeatureTypeCV': u'Site', 'SamplingFeatureCode': 'TestSF', 'FeatureGeometryWKT': 'POINT(-111.946 41.718)'})>\n"
     ]
    }
   ],
   "source": [
    "sitesf0 = siteFeatures[0]\n",
    "\n",
    "try:\n",
    "    newsf = SamplingFeatures()\n",
    "    session = session_factory.getSession()\n",
    "    newsf.FeatureGeometryWKT = \"POINT(-111.946 41.718)\"\n",
    "    newsf.Elevation_m = 100\n",
    "    newsf.ElevationDatumCV = sitesf0.ElevationDatumCV\n",
    "    newsf.SamplingFeatureCode = \"TestSF\"\n",
    "    newsf.SamplingFeatureDescription = \"this is a test to add a sampling feature\"\n",
    "    newsf.SamplingFeatureGeotypeCV = \"Point\"\n",
    "    newsf.SamplingFeatureTypeCV = sitesf0.SamplingFeatureTypeCV\n",
    "    newsf.SamplingFeatureUUID = sitesf0.SamplingFeatureUUID+\"2\"\n",
    "    session.add(newsf)\n",
    "    # To save the new sampling feature, do session.commit()\n",
    "    print(\"New sampling feature created, but not saved to database.\\n\")\n",
    "    print(newsf)\n",
    "except Exception as e :\n",
    "    print(\"error adding a sampling feature: {}\".format(e))"
   ]
  },
  {
   "cell_type": "markdown",
   "metadata": {},
   "source": [
    "### Get Objects and Related Objects from the Database (SamplingFeatures example)\n",
    "\n",
    "This code shows some examples of how objects and related objects can be retrieved using the API. In the following, we use the **getSamplingFeatures( )** function to return a particular sampling feature by passing in its SamplingFeatureCode. This function returns a list of SamplingFeature objects, so just get the first one in the returned list."
   ]
  },
  {
   "cell_type": "code",
   "execution_count": 17,
   "metadata": {},
   "outputs": [
    {
     "data": {
      "text/plain": [
       "odm2api.models.Sites"
      ]
     },
     "execution_count": 17,
     "metadata": {},
     "output_type": "execute_result"
    }
   ],
   "source": [
    "# Get the SamplingFeature object for a particular SamplingFeature by passing its SamplingFeatureCode\n",
    "sf = read.getSamplingFeatures(codes=['RB_1300E'])[0]\n",
    "type(sf)"
   ]
  },
  {
   "cell_type": "code",
   "execution_count": 18,
   "metadata": {},
   "outputs": [
    {
     "data": {
      "text/plain": [
       "{'ElevationDatumCV': u'EGM96',\n",
       " 'Elevation_m': 1356.0,\n",
       " 'FeatureGeometryWKT': None,\n",
       " 'Latitude': 40.745078,\n",
       " 'Longitude': -111.854449,\n",
       " 'SamplingFeatureCode': u'RB_1300E',\n",
       " 'SamplingFeatureDescription': None,\n",
       " 'SamplingFeatureGeotypeCV': None,\n",
       " 'SamplingFeatureID': 1,\n",
       " 'SamplingFeatureName': u'Red Butte Creek at 1300E (downstream of spring)',\n",
       " 'SamplingFeatureTypeCV': u'Site',\n",
       " 'SamplingFeatureUUID': u'0DDE8EF6-EC2F-42C0-AB50-20C6C02E89B2',\n",
       " 'SiteTypeCV': u'Stream',\n",
       " 'SpatialReferenceID': 1,\n",
       " '_sa_instance_state': <sqlalchemy.orm.state.InstanceState at 0x7febbd3211d0>}"
      ]
     },
     "execution_count": 18,
     "metadata": {},
     "output_type": "execute_result"
    }
   ],
   "source": [
    "# Simple way to examine the content (properties) of a Python object, as if it were a dictionary\n",
    "vars(sf)"
   ]
  },
  {
   "cell_type": "markdown",
   "metadata": {},
   "source": [
    "You can also drill down and get objects linked by foreign keys. The API returns related objects in a nested hierarchy so they can be interrogated in an object oriented way. So, if I use the **getResults( )** function to return a Result from the database (e.g., a \"Measurement\" Result), I also get the associated Action that created that Result (e.g., a \"Specimen analysis\" Action)."
   ]
  },
  {
   "cell_type": "code",
   "execution_count": 19,
   "metadata": {},
   "outputs": [
    {
     "name": "stdout",
     "output_type": "stream",
     "text": [
      "('The FeatureAction object for the Result is: ', <FeatureActions({'FeatureActionID': 1, 'SamplingFeatureID': 26, 'ActionID': 1})>)\n",
      "('The Action object for the Result is: ', <Actions({'MethodID': 2, 'ActionDescription': None, 'ActionFileLink': None, 'EndDateTime': None, 'BeginDateTime': datetime.datetime(2014, 10, 30, 0, 0), 'EndDateTimeUTCOffset': None, 'ActionTypeCV': u'Specimen analysis', 'ActionID': 1, 'BeginDateTimeUTCOffset': -7})>)\n",
      "\n",
      "The following are some of the attributes for the Action that created the Result: \n",
      "ActionTypeCV: Specimen analysis\n",
      "ActionDescription: None\n",
      "BeginDateTime: 2014-10-30 00:00:00\n",
      "EndDateTime: None\n",
      "MethodName: Astoria Total Phosphorus\n",
      "MethodDescription: Determination of total phosphorus by persulphate oxidation digestion and ascorbic acid method\n"
     ]
    }
   ],
   "source": [
    "try:\n",
    "    # Call getResults, but return only the first Result\n",
    "    firstResult = read.getResults()[0]\n",
    "    frfa = firstResult.FeatureActionObj\n",
    "    frfaa = firstResult.FeatureActionObj.ActionObj\n",
    "    print(\"The FeatureAction object for the Result is: \", frfa)\n",
    "    print(\"The Action object for the Result is: \", frfaa)\n",
    "    \n",
    "    # Print some Action attributes in a more human readable form\n",
    "    print(\"\\nThe following are some of the attributes for the Action that created the Result: \")\n",
    "    print(\"ActionTypeCV: {}\".format(frfaa.ActionTypeCV))\n",
    "    print(\"ActionDescription: {}\".format(frfaa.ActionDescription))\n",
    "    print(\"BeginDateTime: {}\".format(frfaa.BeginDateTime))\n",
    "    print(\"EndDateTime: {}\".format(frfaa.EndDateTime))\n",
    "    print(\"MethodName: {}\".format(frfaa.MethodObj.MethodName))\n",
    "    print(\"MethodDescription: {}\".format(frfaa.MethodObj.MethodDescription))\n",
    "except Exception as e:\n",
    "    print(\"Unable to demo Foreign Key Example: {}\".format(e))"
   ]
  },
  {
   "cell_type": "markdown",
   "metadata": {},
   "source": [
    "### Get a Result and its Attributes\n",
    "\n",
    "Because all of the objects are returned in a nested form, if you retrieve a result, you can interrogate it to get all of its related attributes. When a Result object is returned, it includes objects that contain information about Variable, Units, ProcessingLevel, and the related Action that created that Result."
   ]
  },
  {
   "cell_type": "code",
   "execution_count": 20,
   "metadata": {},
   "outputs": [
    {
     "name": "stdout",
     "output_type": "stream",
     "text": [
      "------- Example of Retrieving Attributes of a Result -------\n",
      "The following are some of the attributes for the Result retrieved: \n",
      "ResultID: 1\n",
      "ResultTypeCV: Measurement\n",
      "ValueCount: 1\n",
      "ProcessingLevel: Raw Data\n",
      "SampledMedium: Liquid aqueous\n",
      "Variable: TP: Phosphorus, total\n",
      "Units: milligrams per liter\n",
      "SamplingFeatureID: 26\n",
      "SamplingFeatureCode: 3\n"
     ]
    }
   ],
   "source": [
    "print(\"------- Example of Retrieving Attributes of a Result -------\")\n",
    "try:\n",
    "    firstResult = read.getResults()[0]\n",
    "    frfa = firstResult.FeatureActionObj\n",
    "    print(\"The following are some of the attributes for the Result retrieved: \")\n",
    "    print(\"ResultID: {}\".format(firstResult.ResultID))\n",
    "    print(\"ResultTypeCV: {}\".format(firstResult.ResultTypeCV))\n",
    "    print(\"ValueCount: {}\".format(firstResult.ValueCount))\n",
    "    print(\"ProcessingLevel: {}\".format(firstResult.ProcessingLevelObj.Definition))\n",
    "    print(\"SampledMedium: {}\".format(firstResult.SampledMediumCV))\n",
    "    print(\"Variable: {}: {}\".format(firstResult.VariableObj.VariableCode, \n",
    "                                    firstResult.VariableObj.VariableNameCV))\n",
    "    print(\"Units: {}\".format(firstResult.UnitsObj.UnitsName))\n",
    "    print(\"SamplingFeatureID: {}\".format(frfa.SamplingFeatureObj.SamplingFeatureID))\n",
    "    print(\"SamplingFeatureCode: {}\".format(frfa.SamplingFeatureObj.SamplingFeatureCode))\n",
    "except Exception as e:\n",
    "    print(\"Unable to demo example of retrieving Attributes of a Result: {}\".format(e))"
   ]
  },
  {
   "cell_type": "markdown",
   "metadata": {},
   "source": [
    "The last block of code returns a particular Measurement Result. From that I can get the SamplingFeaureID (in this case 26) for the Specimen from which the Result was generated. But, if I want to figure out which Site the Specimen was collected at, I need to query the database to get the related Site SamplingFeature.  I can use **getRelatedSamplingFeatures( )** for this.  Once I've got the SamplingFeature for the Site, I could get the rest of the SamplingFeature attributes."
   ]
  },
  {
   "cell_type": "markdown",
   "metadata": {},
   "source": [
    "### Retrieve the \"Related\" Site at which a Specimen was collected"
   ]
  },
  {
   "cell_type": "code",
   "execution_count": 21,
   "metadata": {},
   "outputs": [],
   "source": [
    "# Pass the Sampling Feature ID of the specimen, and the relationship type\n",
    "relatedSite = read.getRelatedSamplingFeatures(sfid=26, relationshiptype='Was Collected at')[0]"
   ]
  },
  {
   "cell_type": "code",
   "execution_count": 22,
   "metadata": {},
   "outputs": [
    {
     "data": {
      "text/plain": [
       "{'ElevationDatumCV': u'EGM96',\n",
       " 'Elevation_m': 1356.0,\n",
       " 'FeatureGeometryWKT': None,\n",
       " 'Latitude': 40.745078,\n",
       " 'Longitude': -111.854449,\n",
       " 'SamplingFeatureCode': u'RB_1300E',\n",
       " 'SamplingFeatureDescription': None,\n",
       " 'SamplingFeatureGeotypeCV': None,\n",
       " 'SamplingFeatureID': 1,\n",
       " 'SamplingFeatureName': u'Red Butte Creek at 1300E (downstream of spring)',\n",
       " 'SamplingFeatureTypeCV': u'Site',\n",
       " 'SamplingFeatureUUID': u'0DDE8EF6-EC2F-42C0-AB50-20C6C02E89B2',\n",
       " 'SiteTypeCV': u'Stream',\n",
       " 'SpatialReferenceID': 1,\n",
       " '_sa_instance_state': <sqlalchemy.orm.state.InstanceState at 0x7febbd3211d0>}"
      ]
     },
     "execution_count": 22,
     "metadata": {},
     "output_type": "execute_result"
    }
   ],
   "source": [
    "vars(relatedSite)"
   ]
  },
  {
   "cell_type": "markdown",
   "metadata": {},
   "source": [
    "-----------------------------------------\n",
    "\n",
    "## Return Results and Data Values for a Particular Site/Variable\n",
    "\n",
    "From the list of Variables returned above and the information about the SamplingFeature I queried above, I know that VariableID = 2 for Total Phosphorus and SiteID = 1 for the Red Butte Creek site at 1300E. I can use the **getResults( )** function to get all of the Total Phosphorus results for this site by passing in the VariableID and the SiteID."
   ]
  },
  {
   "cell_type": "code",
   "execution_count": 23,
   "metadata": {},
   "outputs": [],
   "source": [
    "siteID = 1  # Red Butte Creek at 1300 E (obtained from the getRelatedSamplingFeatures query)"
   ]
  },
  {
   "cell_type": "code",
   "execution_count": 24,
   "metadata": {},
   "outputs": [
    {
     "data": {
      "text/plain": [
       "18"
      ]
     },
     "execution_count": 24,
     "metadata": {},
     "output_type": "execute_result"
    }
   ],
   "source": [
    "v = variables_df[variables_df['VariableCode'] == 'TP']\n",
    "variableID = v.index[0]\n",
    "\n",
    "results = read.getResults(siteid=siteID, variableid=variableID, restype=\"Measurement\")\n",
    "# Get the list of ResultIDs so I can retrieve the data values associated with all of the results\n",
    "resultIDList = [x.ResultID for x in results]\n",
    "len(resultIDList)"
   ]
  },
  {
   "cell_type": "markdown",
   "metadata": {},
   "source": [
    "### Retrieve the Result (Data) Values, Then Create a Quick Time Series Plot of the Data\n",
    "\n",
    "Now I can retrieve all of the data values associated with the list of Results I just retrieved. In ODM2, water chemistry measurements are stored as \"Measurement\" results. Each \"Measurement\" Result has a single data value associated with it. So, for convenience, the **getResultValues( )** function allows you to pass in a list of ResultIDs so you can get the data values for all of them back in a Pandas data frame object, which is easier to work with. Once I've got the data in a Pandas data frame object, I can use the **plot( )** function directly on the data frame to create a quick visualization."
   ]
  },
  {
   "cell_type": "code",
   "execution_count": 25,
   "metadata": {},
   "outputs": [
    {
     "data": {
      "text/html": [
       "<div>\n",
       "<style scoped>\n",
       "    .dataframe tbody tr th:only-of-type {\n",
       "        vertical-align: middle;\n",
       "    }\n",
       "\n",
       "    .dataframe tbody tr th {\n",
       "        vertical-align: top;\n",
       "    }\n",
       "\n",
       "    .dataframe thead th {\n",
       "        text-align: right;\n",
       "    }\n",
       "</style>\n",
       "<table border=\"1\" class=\"dataframe\">\n",
       "  <thead>\n",
       "    <tr style=\"text-align: right;\">\n",
       "      <th></th>\n",
       "      <th>ValueID</th>\n",
       "      <th>ResultID</th>\n",
       "      <th>DataValue</th>\n",
       "      <th>ValueDateTime</th>\n",
       "      <th>ValueDateTimeUTCOffset</th>\n",
       "    </tr>\n",
       "  </thead>\n",
       "  <tbody>\n",
       "    <tr>\n",
       "      <th>0</th>\n",
       "      <td>1</td>\n",
       "      <td>1</td>\n",
       "      <td>0.0100</td>\n",
       "      <td>2015-10-27 13:26:24</td>\n",
       "      <td>-7</td>\n",
       "    </tr>\n",
       "    <tr>\n",
       "      <th>1</th>\n",
       "      <td>100</td>\n",
       "      <td>1</td>\n",
       "      <td>0.0100</td>\n",
       "      <td>2015-11-17 13:55:12</td>\n",
       "      <td>-7</td>\n",
       "    </tr>\n",
       "    <tr>\n",
       "      <th>2</th>\n",
       "      <td>109</td>\n",
       "      <td>10</td>\n",
       "      <td>0.0574</td>\n",
       "      <td>2015-05-12 14:24:00</td>\n",
       "      <td>-7</td>\n",
       "    </tr>\n",
       "    <tr>\n",
       "      <th>3</th>\n",
       "      <td>10</td>\n",
       "      <td>10</td>\n",
       "      <td>0.0574</td>\n",
       "      <td>2015-06-18 12:43:12</td>\n",
       "      <td>-7</td>\n",
       "    </tr>\n",
       "    <tr>\n",
       "      <th>4</th>\n",
       "      <td>198</td>\n",
       "      <td>99</td>\n",
       "      <td>0.0424</td>\n",
       "      <td>2015-10-27 13:55:12</td>\n",
       "      <td>-7</td>\n",
       "    </tr>\n",
       "  </tbody>\n",
       "</table>\n",
       "</div>"
      ],
      "text/plain": [
       "   ValueID  ResultID  DataValue       ValueDateTime  ValueDateTimeUTCOffset\n",
       "0        1         1     0.0100 2015-10-27 13:26:24                      -7\n",
       "1      100         1     0.0100 2015-11-17 13:55:12                      -7\n",
       "2      109        10     0.0574 2015-05-12 14:24:00                      -7\n",
       "3       10        10     0.0574 2015-06-18 12:43:12                      -7\n",
       "4      198        99     0.0424 2015-10-27 13:55:12                      -7"
      ]
     },
     "execution_count": 25,
     "metadata": {},
     "output_type": "execute_result"
    }
   ],
   "source": [
    "# Get all of the data values for the Results in the list created above\n",
    "# Call getResultValues, which returns a Pandas Data Frame with the data\n",
    "resultValues = read.getResultValues(resultids=resultIDList, lowercols=False)\n",
    "resultValues['ValueDateTime'] = pd.to_datetime(resultValues['ValueDateTime'])\n",
    "resultValues.head()"
   ]
  },
  {
   "cell_type": "markdown",
   "metadata": {},
   "source": [
    "**10/5/2018. NOTE CURRENT ISSUE REGARDING `ValueDateTime` RETURNED BY `read.getResultValues`.** There seems to be an unexpected behavior with the data type returned for `ValueDateTime` for SQLite databases. It should be a datetime, but it's currently a string. This is [being investigated](https://github.com/ODM2/ODM2PythonAPI/issues/158). For now, we are converting to a datetime manually in cells 25 and 27 via the statement:\n",
    "```python\n",
    "resultValues['ValueDateTime'] = pd.to_datetime(resultValues['ValueDateTime'])\n",
    "```\n",
    "This problem is present in `odm2api` version 0.7.1, but was not present in Nov. 2017"
   ]
  },
  {
   "cell_type": "code",
   "execution_count": 26,
   "metadata": {},
   "outputs": [
    {
     "data": {
      "image/png": "[encoded data removed]",
      "text/plain": [
       "<Figure size 432x288 with 1 Axes>"
      ]
     },
     "metadata": {
      "needs_background": "light"
     },
     "output_type": "display_data"
    }
   ],
   "source": [
    "# Plot the time sequence of Measurement Result Values \n",
    "ax = resultValues.plot(x='ValueDateTime', y='DataValue', title=relatedSite.SamplingFeatureName,\n",
    "                       kind='line', use_index=True, linestyle='solid', style='o')\n",
    "ax.set_ylabel(\"{0} ({1})\".format(results[0].VariableObj.VariableNameCV, \n",
    "                                 results[0].UnitsObj.UnitsAbbreviation))\n",
    "ax.set_xlabel('Date/Time')\n",
    "ax.legend().set_visible(False)"
   ]
  },
  {
   "cell_type": "markdown",
   "metadata": {},
   "source": [
    "### End with a fancier plot, facilitated via a function\n",
    "\n",
    "If I'm going to reuse a series of steps, it's always helpful to write little generic functions that can be called to quickly and consistently get what we need. To conclude this demo, here's one such function that encapsulates the `VariableID`, `getResults` and `getResultValues` queries we showed above. Then we leverage it to create a nice 2-variable (2-axis) plot of TP and TN vs time, and conclude with a reminder that we have ready access to related metadata about analytical lab methods and such."
   ]
  },
  {
   "cell_type": "code",
   "execution_count": 27,
   "metadata": {},
   "outputs": [],
   "source": [
    "def get_results_and_values(siteid, variablecode):\n",
    "    v = variables_df[variables_df['VariableCode'] == variablecode]\n",
    "    variableID = v.index[0]\n",
    "    \n",
    "    results = read.getResults(siteid=siteid, variableid=variableID, restype=\"Measurement\")\n",
    "    resultIDList = [x.ResultID for x in results]\n",
    "    resultValues = read.getResultValues(resultids=resultIDList, lowercols=False)\n",
    "    resultValues['ValueDateTime'] = pd.to_datetime(resultValues['ValueDateTime'])\n",
    "    \n",
    "    return resultValues, results"
   ]
  },
  {
   "cell_type": "markdown",
   "metadata": {},
   "source": [
    "Fancy plotting, leveraging the `Pandas` plot method and `matplotlib`."
   ]
  },
  {
   "cell_type": "code",
   "execution_count": 28,
   "metadata": {},
   "outputs": [
    {
     "data": {
      "image/png": "[encoded data removed]",
      "text/plain": [
       "<Figure size 936x432 with 2 Axes>"
      ]
     },
     "metadata": {
      "needs_background": "light"
     },
     "output_type": "display_data"
    }
   ],
   "source": [
    "# Plot figure and axis set up\n",
    "f, ax = plt.subplots(1, figsize=(13, 6))\n",
    "\n",
    "# First plot (left axis)\n",
    "VariableCode = 'TP'\n",
    "resultValues_TP, results_TP = get_results_and_values(siteID, VariableCode)\n",
    "resultValues_TP.plot(x='ValueDateTime', y='DataValue', label=VariableCode, \n",
    "                     style='o-', kind='line', ax=ax)\n",
    "ax.set_ylabel(\"{0}: {1} ({2})\".format(VariableCode, results_TP[0].VariableObj.VariableNameCV, \n",
    "                                      results_TP[0].UnitsObj.UnitsAbbreviation))\n",
    "\n",
    "# Second plot (right axis)\n",
    "VariableCode = 'TN'\n",
    "resultValues_TN, results_TN = get_results_and_values(siteID, VariableCode)\n",
    "resultValues_TN.plot(x='ValueDateTime', y='DataValue', label=VariableCode, \n",
    "                     style='^-', kind='line', ax=ax,\n",
    "                     secondary_y=True)\n",
    "ax.right_ax.set_ylabel(\"{0}: {1} ({2})\".format(VariableCode, results_TN[0].VariableObj.VariableNameCV, \n",
    "                                               results_TN[0].UnitsObj.UnitsAbbreviation))\n",
    "\n",
    "# Tweak the figure\n",
    "ax.legend(loc='upper left')\n",
    "ax.right_ax.legend(loc='upper right')\n",
    "\n",
    "ax.grid(True)\n",
    "ax.set_xlabel('')\n",
    "ax.set_title(relatedSite.SamplingFeatureName);"
   ]
  },
  {
   "cell_type": "markdown",
   "metadata": {},
   "source": [
    "Finally, let's show some useful metadata. Use the `Results` records and their relationship to `Actions` (via `FeatureActions`) to **extract and print out the Specimen Analysis methods used for TN and TP**. Or at least for the *first* result for each of the two variables; methods may have varied over time, but the specific method associated with each result is stored in ODM2 and available."
   ]
  },
  {
   "cell_type": "code",
   "execution_count": 29,
   "metadata": {},
   "outputs": [
    {
     "name": "stdout",
     "output_type": "stream",
     "text": [
      "TP METHOD:  Astoria Total Phosphorus (Determination of total phosphorus by persulphate oxidation digestion and ascorbic acid method)\n",
      "TN METHOD:  Astoria Total Nitrogen (Determination of total Nitrogen by persulphate oxidation digestion and cadmium reduction method)\n"
     ]
    }
   ],
   "source": [
    "results_faam = lambda results, i: results[i].FeatureActionObj.ActionObj.MethodObj\n",
    "\n",
    "print(\"TP METHOD:  {0} ({1})\".format(results_faam(results_TP, 0).MethodName,\n",
    "                                     results_faam(results_TP, 0).MethodDescription))\n",
    "print(\"TN METHOD:  {0} ({1})\".format(results_faam(results_TN, 0).MethodName,\n",
    "                                     results_faam(results_TN, 0).MethodDescription))"
   ]
  },
  {
   "cell_type": "code",
   "execution_count": null,
   "metadata": {},
   "outputs": [],
   "source": []
  }
 ],
 "metadata": {
  "kernelspec": {
   "display_name": "Python [conda env:odm2client_20180915]",
   "language": "python",
   "name": "conda-env-odm2client_20180915-py"
  },
  "language_info": {
   "codemirror_mode": {
    "name": "ipython",
    "version": 2
   },
   "file_extension": ".py",
   "mimetype": "text/x-python",
   "name": "python",
   "nbconvert_exporter": "python",
   "pygments_lexer": "ipython2",
   "version": "2.7.15"
  }
 },
 "nbformat": 4,
 "nbformat_minor": 2
}
